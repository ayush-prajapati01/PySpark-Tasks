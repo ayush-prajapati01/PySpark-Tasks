{
 "cells": [
  {
   "cell_type": "markdown",
   "id": "e0cc09b8",
   "metadata": {},
   "source": [
    "<br>\n",
    "@Author: Ayush Prajapati<br>\n",
    "@Date: 02-09-2024 <br>\n",
    "@Last Modified by: Ayush Prajapati<br>\n",
    "@Last Modified time: 03-09-2024 <br>\n",
    "@Title : Wordcount Program on CSV File using PySpark<br><br>"
   ]
  },
  {
   "cell_type": "markdown",
   "id": "4868cadd",
   "metadata": {},
   "source": [
    "## Importing Libraries"
   ]
  },
  {
   "cell_type": "code",
   "execution_count": 1,
   "id": "01520d70",
   "metadata": {},
   "outputs": [],
   "source": [
    "from pyspark.sql import SparkSession\n",
    "from operator import add"
   ]
  },
  {
   "cell_type": "markdown",
   "id": "d44195d9",
   "metadata": {},
   "source": [
    "## Initialize SparkSession"
   ]
  },
  {
   "cell_type": "code",
   "execution_count": 2,
   "id": "764113ad",
   "metadata": {},
   "outputs": [
    {
     "name": "stderr",
     "output_type": "stream",
     "text": [
      "Setting default log level to \"WARN\".\n",
      "To adjust logging level use sc.setLogLevel(newLevel). For SparkR, use setLogLevel(newLevel).\n",
      "2024-09-04 11:04:28,128 WARN util.NativeCodeLoader: Unable to load native-hadoop library for your platform... using builtin-java classes where applicable\n"
     ]
    }
   ],
   "source": [
    " spark = SparkSession.builder.appName(\"WordCountRDD\").getOrCreate()"
   ]
  },
  {
   "cell_type": "markdown",
   "id": "2c10ecb1",
   "metadata": {},
   "source": [
    "## Wordcount on CSV File<br>"
   ]
  },
  {
   "cell_type": "code",
   "execution_count": 3,
   "id": "d6143796",
   "metadata": {},
   "outputs": [
    {
     "name": "stderr",
     "output_type": "stream",
     "text": [
      "                                                                                \r"
     ]
    }
   ],
   "source": [
    "# Load the CSV file into a DataFrame\n",
    "csv_file_path = \"file:/home/hdoop/PySpark-Local/PySpark-Tasks/Word-Count Problem/demo.csv\"\n",
    "df = spark.read.csv(csv_file_path, header=True)"
   ]
  },
  {
   "cell_type": "code",
   "execution_count": 4,
   "id": "e9fc61bf",
   "metadata": {},
   "outputs": [
    {
     "name": "stdout",
     "output_type": "stream",
     "text": [
      "+--------------------+\n",
      "|                text|\n",
      "+--------------------+\n",
      "|The quick brown f...|\n",
      "|        Hello world!|\n",
      "|Apache Spark is a...|\n",
      "|Word count exampl...|\n",
      "|Another line of t...|\n",
      "|The quick brown f...|\n",
      "+--------------------+\n",
      "\n"
     ]
    }
   ],
   "source": [
    "df.show()"
   ]
  },
  {
   "cell_type": "code",
   "execution_count": 5,
   "id": "9d7d046d",
   "metadata": {},
   "outputs": [
    {
     "data": {
      "text/plain": [
       "pyspark.rdd.RDD"
      ]
     },
     "execution_count": 5,
     "metadata": {},
     "output_type": "execute_result"
    }
   ],
   "source": [
    "rdd = df.rdd\n",
    "type(rdd)"
   ]
  },
  {
   "cell_type": "code",
   "execution_count": 6,
   "id": "cc79eb93",
   "metadata": {},
   "outputs": [
    {
     "data": {
      "text/plain": [
       "[Row(text='The quick brown fox jumps over the lazy dog.'),\n",
       " Row(text='Hello world!'),\n",
       " Row(text='Apache Spark is awesome.'),\n",
       " Row(text='Word count example using CSV file.'),\n",
       " Row(text='Another line of text to test word count.'),\n",
       " Row(text='The quick brown fox jumps over the lazy dog.')]"
      ]
     },
     "execution_count": 6,
     "metadata": {},
     "output_type": "execute_result"
    }
   ],
   "source": [
    "rdd.collect()"
   ]
  },
  {
   "cell_type": "code",
   "execution_count": 7,
   "id": "14fe720b",
   "metadata": {},
   "outputs": [],
   "source": [
    "def get_keyval(row):\n",
    "    \"\"\"\n",
    "    Description: \n",
    "        This function generates a key value pair\n",
    "    Parameters:\n",
    "        row(str) : indivial row of csv file\n",
    "    Return:\n",
    "        list: return a key-value pair with word as key and 1 as value\n",
    "    \"\"\"\n",
    "    # Get the text from the row entry\n",
    "    text = row.text\n",
    "\n",
    "    words = text.lower().split(\" \")\n",
    "    \n",
    "    # For each word, return a key-value pair with word as key and 1 as value\n",
    "    return [[w, 1] for w in words]"
   ]
  },
  {
   "cell_type": "code",
   "execution_count": 8,
   "id": "d4cc154c",
   "metadata": {},
   "outputs": [],
   "source": [
    "# Apply flatMap to get key-value pairs for each word\n",
    "mapped_rdd = rdd.flatMap(lambda row: get_keyval(row))\n",
    "\n",
    "# Use reduceByKey to sum the counts of each word\n",
    "counts_rdd = mapped_rdd.reduceByKey(add)\n"
   ]
  },
  {
   "cell_type": "code",
   "execution_count": 9,
   "id": "29f64c84",
   "metadata": {},
   "outputs": [
    {
     "name": "stderr",
     "output_type": "stream",
     "text": [
      "\r",
      "[Stage 3:>                                                          (0 + 1) / 1]\r"
     ]
    },
    {
     "name": "stdout",
     "output_type": "stream",
     "text": [
      "the: 4\n",
      "quick: 2\n",
      "brown: 2\n",
      "fox: 2\n",
      "jumps: 2\n",
      "over: 2\n",
      "lazy: 2\n",
      "dog.: 2\n",
      "hello: 1\n",
      "world!: 1\n",
      "apache: 1\n",
      "spark: 1\n",
      "is: 1\n",
      "awesome.: 1\n",
      "word: 2\n",
      "count: 1\n",
      "example: 1\n",
      "using: 1\n",
      "csv: 1\n",
      "file.: 1\n",
      "another: 1\n",
      "line: 1\n",
      "of: 1\n",
      "text: 1\n",
      "to: 1\n",
      "test: 1\n",
      "count.: 1\n"
     ]
    },
    {
     "name": "stderr",
     "output_type": "stream",
     "text": [
      "\r",
      "                                                                                \r"
     ]
    }
   ],
   "source": [
    "# Collect the final word counts\n",
    "filtered_rdd = counts_rdd.filter(lambda x: x is not None)\n",
    "word_count = filtered_rdd.collect()\n",
    "\n",
    "# Print the result\n",
    "for word, count in word_count:\n",
    "    print(f\"{word}: {count}\")"
   ]
  },
  {
   "cell_type": "markdown",
   "id": "d0558e61",
   "metadata": {},
   "source": [
    "## Stop the Spark session"
   ]
  },
  {
   "cell_type": "code",
   "execution_count": 11,
   "id": "298ebae1",
   "metadata": {},
   "outputs": [],
   "source": [
    "\n",
    "spark.stop()"
   ]
  },
  {
   "cell_type": "code",
   "execution_count": null,
   "id": "6010e2b3",
   "metadata": {},
   "outputs": [],
   "source": []
  }
 ],
 "metadata": {
  "kernelspec": {
   "display_name": "Python 3 (ipykernel)",
   "language": "python",
   "name": "python3"
  },
  "language_info": {
   "codemirror_mode": {
    "name": "ipython",
    "version": 3
   },
   "file_extension": ".py",
   "mimetype": "text/x-python",
   "name": "python",
   "nbconvert_exporter": "python",
   "pygments_lexer": "ipython3",
   "version": "3.10.12"
  }
 },
 "nbformat": 4,
 "nbformat_minor": 5
}
