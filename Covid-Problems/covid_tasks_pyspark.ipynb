{
 "cells": [
  {
   "cell_type": "markdown",
   "id": "78495acf",
   "metadata": {},
   "source": [
    "<br>\n",
    "@Author: Ayush Prajapati<br>\n",
    "@Date: 02-09-2024 <br>\n",
    "@Last Modified by: Ayush Prajapati<br>\n",
    "@Last Modified time: 03-09-2024 <br>\n",
    "@Title : Spark Commands to Perform Operations on Covid Dataset<br><br>"
   ]
  },
  {
   "cell_type": "code",
   "execution_count": 31,
   "id": "50d5b255",
   "metadata": {},
   "outputs": [],
   "source": [
    " from pyspark.sql import SparkSession"
   ]
  },
  {
   "cell_type": "code",
   "execution_count": 2,
   "id": "0649cb71",
   "metadata": {},
   "outputs": [
    {
     "name": "stderr",
     "output_type": "stream",
     "text": [
      "Setting default log level to \"WARN\".\n",
      "To adjust logging level use sc.setLogLevel(newLevel). For SparkR, use setLogLevel(newLevel).\n",
      "2024-09-03 10:49:18,308 WARN util.NativeCodeLoader: Unable to load native-hadoop library for your platform... using builtin-java classes where applicable\n"
     ]
    }
   ],
   "source": [
    "spark = SparkSession.builder.appName(\"COVID-19 Analysis\").getOrCreate()"
   ]
  },
  {
   "cell_type": "markdown",
   "id": "c9777e3e",
   "metadata": {},
   "source": [
    "## Q1: To find out the death percentage locally and globally<br>"
   ]
  },
  {
   "cell_type": "code",
   "execution_count": 3,
   "id": "4c428524",
   "metadata": {},
   "outputs": [
    {
     "name": "stderr",
     "output_type": "stream",
     "text": [
      "                                                                                \r"
     ]
    }
   ],
   "source": [
    "## Importing data\n",
    "country_wise_latest_df = spark.read.csv(\"file:/home/hdoop/datasets/country_wise_latest.csv\", header=True, inferSchema=True)\n"
   ]
  },
  {
   "cell_type": "code",
   "execution_count": 5,
   "id": "aef936f2",
   "metadata": {},
   "outputs": [
    {
     "name": "stdout",
     "output_type": "stream",
     "text": [
      "+-------------------+---------+------+---------+------+---------+----------+-------------+------------------+---------------------+----------------------+-------------------+-------------+-----------------+--------------------+\n",
      "|     Country/Region|Confirmed|Deaths|Recovered|Active|New cases|New deaths|New recovered|Deaths / 100 Cases|Recovered / 100 Cases|Deaths / 100 Recovered|Confirmed last week|1 week change|1 week % increase|          WHO Region|\n",
      "+-------------------+---------+------+---------+------+---------+----------+-------------+------------------+---------------------+----------------------+-------------------+-------------+-----------------+--------------------+\n",
      "|        Afghanistan|    36263|  1269|    25198|  9796|      106|        10|           18|               3.5|                69.49|                  5.04|              35526|          737|             2.07|Eastern Mediterra...|\n",
      "|            Albania|     4880|   144|     2745|  1991|      117|         6|           63|              2.95|                56.25|                  5.25|               4171|          709|             17.0|              Europe|\n",
      "|            Algeria|    27973|  1163|    18837|  7973|      616|         8|          749|              4.16|                67.34|                  6.17|              23691|         4282|            18.07|              Africa|\n",
      "|            Andorra|      907|    52|      803|    52|       10|         0|            0|              5.73|                88.53|                  6.48|                884|           23|              2.6|              Europe|\n",
      "|             Angola|      950|    41|      242|   667|       18|         1|            0|              4.32|                25.47|                 16.94|                749|          201|            26.84|              Africa|\n",
      "|Antigua and Barbuda|       86|     3|       65|    18|        4|         0|            5|              3.49|                75.58|                  4.62|                 76|           10|            13.16|            Americas|\n",
      "|          Argentina|   167416|  3059|    72575| 91782|     4890|       120|         2057|              1.83|                43.35|                  4.21|             130774|        36642|            28.02|            Americas|\n",
      "|            Armenia|    37390|   711|    26665| 10014|       73|         6|          187|               1.9|                71.32|                  2.67|              34981|         2409|             6.89|              Europe|\n",
      "|          Australia|    15303|   167|     9311|  5825|      368|         6|          137|              1.09|                60.84|                  1.79|              12428|         2875|            23.13|     Western Pacific|\n",
      "|            Austria|    20558|   713|    18246|  1599|       86|         1|           37|              3.47|                88.75|                  3.91|              19743|          815|             4.13|              Europe|\n",
      "|         Azerbaijan|    30446|   423|    23242|  6781|      396|         6|          558|              1.39|                76.34|                  1.82|              27890|         2556|             9.16|              Europe|\n",
      "|            Bahamas|      382|    11|       91|   280|       40|         0|            0|              2.88|                23.82|                 12.09|                174|          208|           119.54|            Americas|\n",
      "|            Bahrain|    39482|   141|    36110|  3231|      351|         1|          421|              0.36|                91.46|                  0.39|              36936|         2546|             6.89|Eastern Mediterra...|\n",
      "|         Bangladesh|   226225|  2965|   125683| 97577|     2772|        37|         1801|              1.31|                55.56|                  2.36|             207453|        18772|             9.05|     South-East Asia|\n",
      "|           Barbados|      110|     7|       94|     9|        0|         0|            0|              6.36|                85.45|                  7.45|                106|            4|             3.77|            Americas|\n",
      "|            Belarus|    67251|   538|    60492|  6221|      119|         4|           67|               0.8|                89.95|                  0.89|              66213|         1038|             1.57|              Europe|\n",
      "|            Belgium|    66428|  9822|    17452| 39154|      402|         1|           14|             14.79|                26.27|                 56.28|              64094|         2334|             3.64|              Europe|\n",
      "|             Belize|       48|     2|       26|    20|        0|         0|            0|              4.17|                54.17|                  7.69|                 40|            8|             20.0|            Americas|\n",
      "|              Benin|     1770|    35|     1036|   699|        0|         0|            0|              1.98|                58.53|                  3.38|               1602|          168|            10.49|              Africa|\n",
      "|             Bhutan|       99|     0|       86|    13|        4|         0|            1|               0.0|                86.87|                   0.0|                 90|            9|             10.0|     South-East Asia|\n",
      "+-------------------+---------+------+---------+------+---------+----------+-------------+------------------+---------------------+----------------------+-------------------+-------------+-----------------+--------------------+\n",
      "only showing top 20 rows\n",
      "\n"
     ]
    }
   ],
   "source": [
    "country_wise_latest_df.show()"
   ]
  },
  {
   "cell_type": "code",
   "execution_count": 6,
   "id": "d6fe5985",
   "metadata": {},
   "outputs": [
    {
     "name": "stdout",
     "output_type": "stream",
     "text": [
      "root\n",
      " |-- Country/Region: string (nullable = true)\n",
      " |-- Confirmed: integer (nullable = true)\n",
      " |-- Deaths: integer (nullable = true)\n",
      " |-- Recovered: integer (nullable = true)\n",
      " |-- Active: integer (nullable = true)\n",
      " |-- New cases: integer (nullable = true)\n",
      " |-- New deaths: integer (nullable = true)\n",
      " |-- New recovered: integer (nullable = true)\n",
      " |-- Deaths / 100 Cases: double (nullable = true)\n",
      " |-- Recovered / 100 Cases: double (nullable = true)\n",
      " |-- Deaths / 100 Recovered: double (nullable = true)\n",
      " |-- Confirmed last week: integer (nullable = true)\n",
      " |-- 1 week change: integer (nullable = true)\n",
      " |-- 1 week % increase: double (nullable = true)\n",
      " |-- WHO Region: string (nullable = true)\n",
      "\n"
     ]
    }
   ],
   "source": [
    "country_wise_latest_df.printSchema()"
   ]
  },
  {
   "cell_type": "code",
   "execution_count": 8,
   "id": "fc48d4fa",
   "metadata": {},
   "outputs": [],
   "source": [
    "country_wise_latest_df.createOrReplaceTempView(\"country_wise_latest_df\")"
   ]
  },
  {
   "cell_type": "code",
   "execution_count": 12,
   "id": "4e0430d7",
   "metadata": {},
   "outputs": [
    {
     "name": "stdout",
     "output_type": "stream",
     "text": [
      "+-----------------------+\n",
      "|Global_Death_Percentage|\n",
      "+-----------------------+\n",
      "|                  3.969|\n",
      "+-----------------------+\n",
      "\n"
     ]
    }
   ],
   "source": [
    "# Globally\n",
    "\n",
    "spark.sql('''SELECT \n",
    "(ROUND((SUM(Deaths) * 100.0)/ SUM(Confirmed),3)) AS Global_Death_Percentage\n",
    "FROM country_wise_latest_df;''').show()"
   ]
  },
  {
   "cell_type": "code",
   "execution_count": 18,
   "id": "99a49e63",
   "metadata": {},
   "outputs": [
    {
     "name": "stdout",
     "output_type": "stream",
     "text": [
      "+--------------+----------------+\n",
      "|Country/Region|Death_Percentage|\n",
      "+--------------+----------------+\n",
      "|         India|           2.257|\n",
      "+--------------+----------------+\n",
      "\n"
     ]
    }
   ],
   "source": [
    "# Locally\n",
    "\n",
    "spark.sql('''SELECT `Country/Region`,\n",
    "(ROUND(((SUM(Deaths) * 100.0)/ SUM(Confirmed)),3)) AS Death_Percentage\n",
    "FROM country_wise_latest_df\n",
    "GROUP BY `Country/Region`\n",
    "HAVING `Country/Region` = 'India';''').show()\n"
   ]
  },
  {
   "cell_type": "markdown",
   "id": "ef8f6b1f",
   "metadata": {},
   "source": [
    "## Q2: To find out the infected population percentage locally and globally<br>"
   ]
  },
  {
   "cell_type": "code",
   "execution_count": 32,
   "id": "f88d07cc",
   "metadata": {},
   "outputs": [
    {
     "name": "stdout",
     "output_type": "stream",
     "text": [
      "root\n",
      " |-- Country/Region: string (nullable = true)\n",
      " |-- Continent: string (nullable = true)\n",
      " |-- Population: integer (nullable = true)\n",
      " |-- TotalCases: integer (nullable = true)\n",
      " |-- NewCases: integer (nullable = true)\n",
      " |-- TotalDeaths: integer (nullable = true)\n",
      " |-- NewDeaths: integer (nullable = true)\n",
      " |-- TotalRecovered: integer (nullable = true)\n",
      " |-- NewRecovered: integer (nullable = true)\n",
      " |-- ActiveCases: integer (nullable = true)\n",
      " |-- Serious,Critical: integer (nullable = true)\n",
      " |-- Tot Cases/1M pop: integer (nullable = true)\n",
      " |-- Deaths/1M pop: double (nullable = true)\n",
      " |-- TotalTests: integer (nullable = true)\n",
      " |-- Tests/1M pop: integer (nullable = true)\n",
      " |-- WHO Region: string (nullable = true)\n",
      "\n"
     ]
    }
   ],
   "source": [
    "## Importing data \n",
    "worldometer_data_df = spark.read.csv(\"file:/home/hdoop/datasets/worldometer_data.csv\", header=True, inferSchema=True)\n",
    "worldometer_data_df.printSchema()"
   ]
  },
  {
   "cell_type": "code",
   "execution_count": 22,
   "id": "414e2f66",
   "metadata": {},
   "outputs": [],
   "source": [
    "worldometer_data_df.createOrReplaceTempView(\"worldometer_data_df\")"
   ]
  },
  {
   "cell_type": "code",
   "execution_count": 23,
   "id": "cc27d68a",
   "metadata": {},
   "outputs": [
    {
     "name": "stdout",
     "output_type": "stream",
     "text": [
      "+-----------------+----------+---------------------+\n",
      "|Global_Population|TotalCases|Global_Infection_Rate|\n",
      "+-----------------+----------+---------------------+\n",
      "|       6326421290|  19169166|     0.30300173069884|\n",
      "+-----------------+----------+---------------------+\n",
      "\n"
     ]
    }
   ],
   "source": [
    "# Globally\n",
    "\n",
    "spark.sql('''SELECT \n",
    "    SUM(CAST(Population AS BIGINT)) AS Global_Population,\n",
    "    SUM(TotalCases) AS TotalCases,\n",
    "    (((SUM(TotalCases) * 100.0)/ SUM(CAST(Population AS BIGINT)))) AS Global_Infection_Rate\n",
    "FROM \n",
    "    worldometer_data_df;''').show()"
   ]
  },
  {
   "cell_type": "code",
   "execution_count": 30,
   "id": "478bfcab",
   "metadata": {},
   "outputs": [
    {
     "name": "stdout",
     "output_type": "stream",
     "text": [
      "+---------+--------------+----------------------+\n",
      "|Continent|Country/Region|Country_Infection_Rate|\n",
      "+---------+--------------+----------------------+\n",
      "|     Asia|         India|                  0.15|\n",
      "+---------+--------------+----------------------+\n",
      "\n"
     ]
    }
   ],
   "source": [
    "# Locally\n",
    "\n",
    "spark.sql('''SELECT \n",
    "    Continent, `Country/Region`,\n",
    "    (ROUND(((TotalCases * 100.0) / Population),2)) AS Country_Infection_Rate\n",
    "    FROM worldometer_data_df\n",
    "    WHERE `Country/Region` = 'India';''').show()"
   ]
  },
  {
   "cell_type": "markdown",
   "id": "78fdea0a",
   "metadata": {},
   "source": [
    "## Q3: To find out the countries with the highest infection rates<br>"
   ]
  },
  {
   "cell_type": "code",
   "execution_count": 37,
   "id": "9c8aec69",
   "metadata": {},
   "outputs": [
    {
     "name": "stdout",
     "output_type": "stream",
     "text": [
      "+-------------+--------------+----------------------+\n",
      "|    Continent|Country/Region|Country_Infection_Rate|\n",
      "+-------------+--------------+----------------------+\n",
      "|         Asia|         Qatar|        3.992157575045|\n",
      "|South America| French Guiana|        2.714564857959|\n",
      "|         Asia|       Bahrain|        2.513023907975|\n",
      "|       Europe|    San Marino|        2.059638163710|\n",
      "|South America|         Chile|        1.916481022828|\n",
      "|North America|        Panama|        1.652703989233|\n",
      "|         Asia|        Kuwait|        1.637844316754|\n",
      "|         Asia|          Oman|        1.576904396373|\n",
      "|North America|           USA|        1.519386296052|\n",
      "|       Europe|  Vatican City|        1.498127340824|\n",
      "+-------------+--------------+----------------------+\n",
      "\n"
     ]
    }
   ],
   "source": [
    "spark.sql('''SELECT\n",
    "             Continent, `Country/Region`,\n",
    "             (((TotalCases * 100.0) / Population)) AS Country_Infection_Rate\n",
    "             FROM worldometer_data_df\n",
    "             ORDER BY Country_Infection_Rate DESC\n",
    "             LIMIT 10;''').show()"
   ]
  },
  {
   "cell_type": "markdown",
   "id": "b9d6dc9c",
   "metadata": {},
   "source": [
    "## Q4: To find out the countries and continents with the highest death counts<br>"
   ]
  },
  {
   "cell_type": "code",
   "execution_count": 39,
   "id": "cadfdef3",
   "metadata": {},
   "outputs": [
    {
     "name": "stdout",
     "output_type": "stream",
     "text": [
      "+--------------+-----------+\n",
      "|Country/Region|TotalDeaths|\n",
      "+--------------+-----------+\n",
      "|           USA|     162804|\n",
      "|        Brazil|      98644|\n",
      "|        Mexico|      50517|\n",
      "+--------------+-----------+\n",
      "\n"
     ]
    }
   ],
   "source": [
    "# By Countries\n",
    "\n",
    "spark.sql('''SELECT\n",
    "             `Country/Region`, TotalDeaths\n",
    "             FROM worldometer_data_df\n",
    "             ORDER BY TotalDeaths DESC\n",
    "             LIMIT 3;''').show()"
   ]
  },
  {
   "cell_type": "code",
   "execution_count": 41,
   "id": "19f2a446",
   "metadata": {},
   "outputs": [
    {
     "name": "stdout",
     "output_type": "stream",
     "text": [
      "+-------------+----------------------+\n",
      "|    Continent|Total_Continent_Deaths|\n",
      "+-------------+----------------------+\n",
      "|North America|                229855|\n",
      "|       Europe|                205232|\n",
      "|South America|                154885|\n",
      "+-------------+----------------------+\n",
      "\n"
     ]
    }
   ],
   "source": [
    "# By Continents\n",
    "\n",
    "spark.sql('''SELECT\n",
    "             Continent, \n",
    "             SUM(TotalDeaths) AS Total_Continent_Deaths\n",
    "             FROM worldometer_data_df\n",
    "             GROUP BY Continent\n",
    "             ORDER BY Total_Continent_Deaths DESC\n",
    "             LIMIT 3;''').show()"
   ]
  },
  {
   "cell_type": "markdown",
   "id": "1fd944b9",
   "metadata": {},
   "source": [
    "## Q5: Average number of deaths by day (Continents and Countries)<br>"
   ]
  },
  {
   "cell_type": "code",
   "execution_count": 44,
   "id": "647482a0",
   "metadata": {},
   "outputs": [
    {
     "name": "stdout",
     "output_type": "stream",
     "text": [
      "root\n",
      " |-- Province/State: string (nullable = true)\n",
      " |-- Country/Region: string (nullable = true)\n",
      " |-- Lat: double (nullable = true)\n",
      " |-- Long: double (nullable = true)\n",
      " |-- Date: string (nullable = true)\n",
      " |-- Confirmed: integer (nullable = true)\n",
      " |-- Deaths: integer (nullable = true)\n",
      " |-- Recovered: integer (nullable = true)\n",
      " |-- Active: integer (nullable = true)\n",
      " |-- WHO Region: string (nullable = true)\n",
      "\n"
     ]
    }
   ],
   "source": [
    "## Importing data\n",
    "covid_19_clean_df = spark.read.csv(\"file:/home/hdoop/datasets/covid_19_clean_complete.csv\", header=True, inferSchema=True)\n",
    "covid_19_clean_df.printSchema()"
   ]
  },
  {
   "cell_type": "code",
   "execution_count": 45,
   "id": "6f3b578e",
   "metadata": {},
   "outputs": [],
   "source": [
    "covid_19_clean_df.createOrReplaceTempView(\"covid_19_clean_df\")"
   ]
  },
  {
   "cell_type": "code",
   "execution_count": 79,
   "id": "66d693d5",
   "metadata": {},
   "outputs": [
    {
     "name": "stdout",
     "output_type": "stream",
     "text": [
      "+----------+-------------------+-------------+\n",
      "|      Date|     Country/Region|Average_Death|\n",
      "+----------+-------------------+-------------+\n",
      "|2020-02-22|            Estonia|          0.0|\n",
      "|2020-06-20|        Switzerland|       1956.0|\n",
      "|2020-04-04|      Cote d'Ivoire|          1.0|\n",
      "|2020-04-24|            Ireland|       1014.0|\n",
      "|2020-07-13| Dominican Republic|        903.0|\n",
      "|2020-07-17|Trinidad and Tobago|          8.0|\n",
      "|2020-02-18|            Somalia|          0.0|\n",
      "|2020-06-12|            Finland|        325.0|\n",
      "|2020-05-19|           Zimbabwe|          4.0|\n",
      "|2020-01-24|             Brunei|          0.0|\n",
      "|2020-03-04|             Canada|          0.0|\n",
      "|2020-03-28|             Russia|          4.0|\n",
      "|2020-07-23|     United Kingdom|       4149.0|\n",
      "|2020-06-26|               Mali|        113.0|\n",
      "|2020-03-31|        Switzerland|        433.0|\n",
      "|2020-05-05|          Nicaragua|          5.0|\n",
      "|2020-04-27|            Belgium|       7207.0|\n",
      "|2020-07-26|             Panama|       1294.0|\n",
      "|2020-06-19|            Croatia|        107.0|\n",
      "|2020-05-10|          Venezuela|         10.0|\n",
      "+----------+-------------------+-------------+\n",
      "only showing top 20 rows\n",
      "\n"
     ]
    }
   ],
   "source": [
    "# By Countries\n",
    "\n",
    "spark.sql('''SELECT \n",
    "             `Date`, \n",
    "             `Country/Region`,\n",
    "             (AVG(Deaths)) AS Average_Death \n",
    "             FROM covid_19_clean_df\n",
    "             GROUP BY `Date`, `Country/Region`\n",
    "             ORDER BY RAND();''').show()\n"
   ]
  },
  {
   "cell_type": "code",
   "execution_count": 80,
   "id": "605e4a0d",
   "metadata": {},
   "outputs": [
    {
     "name": "stdout",
     "output_type": "stream",
     "text": [
      "+----------+--------------------+-------------+\n",
      "|      Date|          WHO Region|Average_Death|\n",
      "+----------+--------------------+-------------+\n",
      "|2020-03-06|     South-East Asia|          0.1|\n",
      "|2020-06-12|              Europe|      2347.46|\n",
      "|2020-06-22|     Western Pacific|       133.33|\n",
      "|2020-06-27|              Europe|      2460.16|\n",
      "|2020-01-25|              Africa|          0.0|\n",
      "|2020-02-10|     South-East Asia|          0.0|\n",
      "|2020-04-20|              Africa|        14.69|\n",
      "|2020-05-28|Eastern Mediterra...|       537.09|\n",
      "|2020-06-16|            Americas|      4553.02|\n",
      "|2020-06-29|     South-East Asia|       2159.3|\n",
      "|2020-07-02|     South-East Asia|       2324.2|\n",
      "|2020-02-09|            Americas|          0.0|\n",
      "|2020-02-14|              Europe|          0.0|\n",
      "|2020-02-17|            Americas|          0.0|\n",
      "|2020-02-28|     South-East Asia|          0.0|\n",
      "|2020-03-01|              Africa|          0.0|\n",
      "|2020-06-17|Eastern Mediterra...|       842.27|\n",
      "|2020-06-18|            Americas|       4701.3|\n",
      "|2020-02-10|            Americas|          0.0|\n",
      "|2020-05-02|              Europe|      1789.63|\n",
      "+----------+--------------------+-------------+\n",
      "only showing top 20 rows\n",
      "\n"
     ]
    }
   ],
   "source": [
    "## By Continents\n",
    "\n",
    "spark.sql('''SELECT \n",
    "            `Date`, \n",
    "            `WHO Region`,\n",
    "            ROUND(AVG(Deaths),2) AS Average_Death\n",
    "            FROM covid_19_clean_df\n",
    "            GROUP BY `Date`, `WHO Region`;''').show()\n"
   ]
  },
  {
   "cell_type": "markdown",
   "id": "d08c2c8c",
   "metadata": {},
   "source": [
    "## Q6: Average of cases divided by the number of population of each country (TOP 10)<br>"
   ]
  },
  {
   "cell_type": "code",
   "execution_count": 93,
   "id": "b92288fb",
   "metadata": {},
   "outputs": [
    {
     "name": "stdout",
     "output_type": "stream",
     "text": [
      "+----------------+----------------------+\n",
      "|  Country/Region|Average_Infection_Rate|\n",
      "+----------------+----------------------+\n",
      "|            Chad|                 0.000|\n",
      "|          Russia|                 0.006|\n",
      "|        Paraguay|                 0.001|\n",
      "|           Macao|                 0.000|\n",
      "|             CAR|                 0.001|\n",
      "|           Yemen|                 0.000|\n",
      "|Turks and Caicos|                 0.003|\n",
      "|         Senegal|                 0.001|\n",
      "|          Sweden|                 0.008|\n",
      "|      Cabo Verde|                 0.005|\n",
      "+----------------+----------------------+\n",
      "\n"
     ]
    }
   ],
   "source": [
    "spark.sql('''SELECT\n",
    "             `Country/Region`,\n",
    "             ROUND(AVG((TotalCases * 1.0) / Population), 3) AS Average_Infection_Rate\n",
    "             FROM worldometer_data_df\n",
    "             GROUP BY `Country/Region`\n",
    "             LIMIT 10;''').show()\n"
   ]
  }
 ],
 "metadata": {
  "kernelspec": {
   "display_name": "Python 3 (ipykernel)",
   "language": "python",
   "name": "python3"
  },
  "language_info": {
   "codemirror_mode": {
    "name": "ipython",
    "version": 3
   },
   "file_extension": ".py",
   "mimetype": "text/x-python",
   "name": "python",
   "nbconvert_exporter": "python",
   "pygments_lexer": "ipython3",
   "version": "3.10.12"
  }
 },
 "nbformat": 4,
 "nbformat_minor": 5
}
